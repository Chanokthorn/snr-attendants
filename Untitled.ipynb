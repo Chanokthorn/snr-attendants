{
 "cells": [
  {
   "cell_type": "code",
   "execution_count": 25,
   "metadata": {},
   "outputs": [],
   "source": [
    "from flask import Flask\n",
    "from flask_sqlalchemy import SQLAlchemy"
   ]
  },
  {
   "cell_type": "code",
   "execution_count": 26,
   "metadata": {},
   "outputs": [],
   "source": [
    "from app import db\n",
    "from app.models import Meeting, Committee, Personnel, Committee_personnel, Attendance\n",
    "import time\n",
    "import uuid\n"
   ]
  },
  {
   "cell_type": "code",
   "execution_count": 14,
   "metadata": {},
   "outputs": [
    {
     "name": "stdout",
     "output_type": "stream",
     "text": [
      "<Personnel 123>\n",
      "<Committee 420>\n",
      "<Meeting jode>\n",
      "4d2e2c4065e5430988ba5eb1999ece89\n"
     ]
    }
   ],
   "source": [
    "p = Personnel.query.filter_by(p_id=\"123\").first()\n",
    "print(p)\n",
    "c = Committee.query.filter_by(c_id=\"420\").first()\n",
    "print(c)\n",
    "m = Meeting.query.filter_by(m_id=\"jode\").first()\n",
    "print(m)\n",
    "a_id = uuid.uuid4().hex\n",
    "print(a_id)"
   ]
  },
  {
   "cell_type": "code",
   "execution_count": 18,
   "metadata": {},
   "outputs": [],
   "source": [
    "db.session.rollback()\n",
    "attendance = Attendance(a_id=a_id, m_id=m.m_id, p_id=p.p_id, a_chkintime=time.time())\n",
    "db.session.add(attendance)\n",
    "db.session.commit()"
   ]
  },
  {
   "cell_type": "code",
   "execution_count": 28,
   "metadata": {},
   "outputs": [
    {
     "data": {
      "text/plain": [
       "[<Attendance 5c07cf4f37b240289c36ed301401c4ae>,\n",
       " <Attendance 76258cd3fccb469a99e802d4016d280d>,\n",
       " <Attendance 8a75bd3de422432db786f3f2c7b4202d>,\n",
       " <Attendance 8c59f09e29344017a23de1f44218efaa>,\n",
       " <Attendance 92198340335a402992c1acb0ea26f174>]"
      ]
     },
     "execution_count": 28,
     "metadata": {},
     "output_type": "execute_result"
    }
   ],
   "source": [
    "db.session.rollback()\n",
    "db.session.query(Attendance).filter_by(m_id=\"jade\").join(Personnel,Attendance.p_id == Personnel.p_id).all()"
   ]
  },
  {
   "cell_type": "code",
   "execution_count": 3,
   "metadata": {},
   "outputs": [],
   "source": [
    "app = Flask(__name__)"
   ]
  },
  {
   "cell_type": "code",
   "execution_count": 2,
   "metadata": {},
   "outputs": [],
   "source": [
    "p = Personnel(p_id=\"john\", p_title=\"teacher\", p_firstname=\"john\", p_lastname=\"nhoj\")\n",
    "db.session.add(p)"
   ]
  },
  {
   "cell_type": "code",
   "execution_count": 4,
   "metadata": {},
   "outputs": [],
   "source": [
    "c = Committee(c_id='com', c_title=\"announcer\",  c_effective_date=time.time(), c_end_date=time.time()+100000)\n",
    "db.session.add(c)"
   ]
  },
  {
   "cell_type": "code",
   "execution_count": 8,
   "metadata": {},
   "outputs": [],
   "source": [
    "c_p = Committee_personnel(c_id=\"com\", p_id=\"john\")\n",
    "db.session.add(c_p)"
   ]
  },
  {
   "cell_type": "code",
   "execution_count": 16,
   "metadata": {},
   "outputs": [],
   "source": [
    "m = Meeting(m_id=\"adf\", m_num_of_attendants=0, m_starttime=time.time(), m_endtime=time.time(), m_committee=\"com\", m_secretary=\"123\")\n",
    "db.session.add(m)"
   ]
  },
  {
   "cell_type": "code",
   "execution_count": 17,
   "metadata": {},
   "outputs": [],
   "source": [
    "db.session.commit()"
   ]
  },
  {
   "cell_type": "code",
   "execution_count": 15,
   "metadata": {},
   "outputs": [],
   "source": [
    "db.session.rollback()"
   ]
  },
  {
   "cell_type": "code",
   "execution_count": null,
   "metadata": {},
   "outputs": [],
   "source": []
  }
 ],
 "metadata": {
  "kernelspec": {
   "display_name": "Python 3",
   "language": "python",
   "name": "python3"
  },
  "language_info": {
   "codemirror_mode": {
    "name": "ipython",
    "version": 3
   },
   "file_extension": ".py",
   "mimetype": "text/x-python",
   "name": "python",
   "nbconvert_exporter": "python",
   "pygments_lexer": "ipython3",
   "version": "3.6.7"
  }
 },
 "nbformat": 4,
 "nbformat_minor": 2
}

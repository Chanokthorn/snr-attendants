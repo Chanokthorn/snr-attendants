{
 "cells": [
  {
   "cell_type": "code",
   "execution_count": 1,
   "metadata": {},
   "outputs": [],
   "source": [
    "from app import db\n",
    "from app.models import Meeting, Committee, Personnel, Committee_personnel, Attendance, Login\n",
    "import time\n",
    "import uuid\n"
   ]
  },
  {
   "cell_type": "code",
   "execution_count": 2,
   "metadata": {},
   "outputs": [],
   "source": [
    "user = Login(uid=321, role=\"admin\")"
   ]
  },
  {
   "cell_type": "code",
   "execution_count": 3,
   "metadata": {},
   "outputs": [],
   "source": [
    "user.set_password(\"senior\")"
   ]
  },
  {
   "cell_type": "code",
   "execution_count": 4,
   "metadata": {},
   "outputs": [],
   "source": [
    "db.session.add(user)\n",
    "db.session.commit()"
   ]
  },
  {
   "cell_type": "code",
   "execution_count": 2,
   "metadata": {},
   "outputs": [
    {
     "data": {
      "text/plain": [
       "[(<Committee 420>, <Committee_personnel 420, 123>, <Personnel 123>),\n",
       " (<Committee 420>, <Committee_personnel 420, 143>, <Personnel 143>),\n",
       " (<Committee com>, <Committee_personnel com, john>, <Personnel john>)]"
      ]
     },
     "execution_count": 2,
     "metadata": {},
     "output_type": "execute_result"
    }
   ],
   "source": [
    "db.session.query(Committee, Committee_personnel, Personnel)\\\n",
    "            .filter(Committee.c_id == Committee_personnel.c_id)\\\n",
    "            .filter(Committee_personnel.p_id == Personnel.p_id).all()"
   ]
  },
  {
   "cell_type": "code",
   "execution_count": 3,
   "metadata": {},
   "outputs": [
    {
     "name": "stdout",
     "output_type": "stream",
     "text": [
      "<Personnel 123>\n",
      "<Committee 420>\n",
      "None\n"
     ]
    }
   ],
   "source": [
    "db.session.rollback()\n",
    "p = Personnel.query.filter_by(p_id=\"123\").first()\n",
    "print(p)\n",
    "c = Committee.query.filter_by(c_id=\"420\").first()\n",
    "print(c)\n",
    "m = Meeting.query.filter_by(m_id=\"jode\").first()\n",
    "print(m)\n",
    "# a_id = uuid.uuid4().hex\n",
    "# print(a_id)"
   ]
  },
  {
   "cell_type": "code",
   "execution_count": 18,
   "metadata": {},
   "outputs": [],
   "source": [
    "db.session.rollback()\n",
    "attendance = Attendance(a_id=a_id, m_id=m.m_id, p_id=p.p_id, a_chkintime=time.time())\n",
    "db.session.add(attendance)\n",
    "db.session.commit()"
   ]
  },
  {
   "cell_type": "code",
   "execution_count": 12,
   "metadata": {},
   "outputs": [
    {
     "data": {
      "text/plain": [
       "[<Attendance 432, 123>,\n",
       " <Attendance 432, 143>,\n",
       " <Attendance 432, 151>,\n",
       " <Attendance 432, john>]"
      ]
     },
     "execution_count": 12,
     "metadata": {},
     "output_type": "execute_result"
    }
   ],
   "source": [
    "db.session.rollback()\n",
    "db.session.query(Attendance).filter_by(m_id=\"432\").join(Personnel,Attendance.p_id == Personnel.p_id).all()"
   ]
  },
  {
   "cell_type": "code",
   "execution_count": 14,
   "metadata": {},
   "outputs": [],
   "source": [
    "x = db.session.query(Attendance, Personnel).filter(Attendance.p_id == Personnel.p_id).filter_by(m_id=\"432\").all()"
   ]
  },
  {
   "cell_type": "code",
   "execution_count": 17,
   "metadata": {},
   "outputs": [
    {
     "data": {
      "text/plain": [
       "<Personnel 123>"
      ]
     },
     "execution_count": 17,
     "metadata": {},
     "output_type": "execute_result"
    }
   ],
   "source": [
    "x[0][1]"
   ]
  },
  {
   "cell_type": "code",
   "execution_count": 3,
   "metadata": {},
   "outputs": [],
   "source": [
    "app = Flask(__name__)"
   ]
  },
  {
   "cell_type": "code",
   "execution_count": 2,
   "metadata": {},
   "outputs": [],
   "source": [
    "p = Personnel(p_id=\"john\", p_title=\"teacher\", p_firstname=\"john\", p_lastname=\"nhoj\")\n",
    "db.session.add(p)"
   ]
  },
  {
   "cell_type": "code",
   "execution_count": 4,
   "metadata": {},
   "outputs": [],
   "source": [
    "c = Committee(c_id='com', c_title=\"announcer\",  c_effective_date=time.time(), c_end_date=time.time()+100000)\n",
    "db.session.add(c)"
   ]
  },
  {
   "cell_type": "code",
   "execution_count": 8,
   "metadata": {},
   "outputs": [],
   "source": [
    "c_p = Committee_personnel(c_id=\"com\", p_id=\"john\")\n",
    "db.session.add(c_p)"
   ]
  },
  {
   "cell_type": "code",
   "execution_count": 18,
   "metadata": {},
   "outputs": [],
   "source": [
    "import datetime\n",
    "\n",
    "m_id = uuid.uuid4().hex\n",
    "\n",
    "m_title = \"testing title 7\"\n",
    "m_start_schedule = datetime.datetime.now() + datetime.timedelta(weeks=7)\n",
    "m_end_schedule = m_start_schedule + datetime.timedelta(hours=3)\n",
    "\n",
    "m = Meeting(m_id=m_id, m_secretary=\"123\", m_committee=c.c_id, m_num_of_attendants=0, m_title=m_title\\\n",
    "                ,m_start_schedule=m_start_schedule, m_end_schedule=m_end_schedule)\n",
    "\n",
    "# m = Meeting(m_id=\"adf\", m_num_of_attendants=0, m_starttime=time.time(), m_endtime=time.time(), m_committee=\"com\", m_secretary=\"123\")\n",
    "db.session.add(m)"
   ]
  },
  {
   "cell_type": "code",
   "execution_count": 19,
   "metadata": {},
   "outputs": [],
   "source": [
    "db.session.commit()"
   ]
  },
  {
   "cell_type": "code",
   "execution_count": 15,
   "metadata": {},
   "outputs": [],
   "source": [
    "db.session.rollback()"
   ]
  },
  {
   "cell_type": "code",
   "execution_count": 6,
   "metadata": {},
   "outputs": [],
   "source": [
    "import datetime\n",
    "m_starttime = datetime.datetime.now()"
   ]
  },
  {
   "cell_type": "code",
   "execution_count": 7,
   "metadata": {},
   "outputs": [
    {
     "data": {
      "text/plain": [
       "1"
      ]
     },
     "execution_count": 7,
     "metadata": {},
     "output_type": "execute_result"
    }
   ],
   "source": [
    "db.session.query(Meeting).filter(Meeting.m_id == '0c4a4e6313c44536bcc2fda8bdf3fbec').update({Meeting.m_starttime: m_starttime})"
   ]
  },
  {
   "cell_type": "code",
   "execution_count": 32,
   "metadata": {},
   "outputs": [
    {
     "data": {
      "text/plain": [
       "[<Meeting 3a59c8f916224316be0a0c8bf596f784>,\n",
       " <Meeting 66aba0dc8fb640e687d394b2d1791e96>,\n",
       " <Meeting ed7900fea86b431eb9f92c0043ff0ef7>]"
      ]
     },
     "execution_count": 32,
     "metadata": {},
     "output_type": "execute_result"
    }
   ],
   "source": [
    "db.session.query(Meeting).filter(Meeting.m_secretary==\"123\").filter(Meeting.m_start_schedule > datetime.datetime.now()).all()"
   ]
  },
  {
   "cell_type": "code",
   "execution_count": 30,
   "metadata": {},
   "outputs": [],
   "source": [
    "ms[0].m_starttime"
   ]
  },
  {
   "cell_type": "code",
   "execution_count": null,
   "metadata": {},
   "outputs": [],
   "source": []
  }
 ],
 "metadata": {
  "kernelspec": {
   "display_name": "Python 3",
   "language": "python",
   "name": "python3"
  },
  "language_info": {
   "codemirror_mode": {
    "name": "ipython",
    "version": 3
   },
   "file_extension": ".py",
   "mimetype": "text/x-python",
   "name": "python",
   "nbconvert_exporter": "python",
   "pygments_lexer": "ipython3",
   "version": "3.6.7"
  }
 },
 "nbformat": 4,
 "nbformat_minor": 2
}

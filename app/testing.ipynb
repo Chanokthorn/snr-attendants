{
 "cells": [
  {
   "cell_type": "code",
   "execution_count": 5,
   "metadata": {},
   "outputs": [],
   "source": [
    "from FaceRecognition.FindFaceInImage import *"
   ]
  },
  {
   "cell_type": "code",
   "execution_count": 24,
   "metadata": {},
   "outputs": [],
   "source": [
    "import pickle\n",
    "data = pickle.load( open( \"./FaceRecognition/save.p\", \"rb\" ) )\n"
   ]
  },
  {
   "cell_type": "code",
   "execution_count": 25,
   "metadata": {},
   "outputs": [
    {
     "data": {
      "text/plain": [
       "{'__identity_2_index': {'3ec292c1c9d54510926407d31c8e0e46': 0,\n",
       "  '54c19bc3d02748b1b2e3197f5ddab631': 1,\n",
       "  'aa07be284c3d421b9f2ef5c7a39874cf': 2,\n",
       "  'bd46f09c79db4c76980184180728f6c4': 3,\n",
       "  '20669641140a4218882ef918f70194b5': 4,\n",
       "  '07fe326ada7d4da4bb04e54669251870': 5,\n",
       "  '8a217819141c4e1da516c4cba18f1df5': 6},\n",
       " '__index_2_identity': {0: '3ec292c1c9d54510926407d31c8e0e46',\n",
       "  1: '54c19bc3d02748b1b2e3197f5ddab631',\n",
       "  2: 'aa07be284c3d421b9f2ef5c7a39874cf',\n",
       "  3: 'bd46f09c79db4c76980184180728f6c4',\n",
       "  4: '20669641140a4218882ef918f70194b5',\n",
       "  5: '07fe326ada7d4da4bb04e54669251870',\n",
       "  6: '8a217819141c4e1da516c4cba18f1df5'},\n",
       " '__profile_embeddings': tensor([[-0.0674,  0.0224, -0.0036,  ..., -0.0220, -0.0452,  0.0453],\n",
       "         [ 0.0110, -0.0171,  0.0099,  ...,  0.0345,  0.0165, -0.0473],\n",
       "         [ 0.0206, -0.0568,  0.0383,  ...,  0.0115,  0.0052,  0.0169],\n",
       "         ...,\n",
       "         [-0.0165,  0.0452,  0.0583,  ...,  0.0198, -0.0171,  0.0976],\n",
       "         [-0.0266, -0.0094,  0.0298,  ...,  0.0555, -0.0763,  0.0310],\n",
       "         [ 0.0073, -0.0777,  0.0611,  ..., -0.0455,  0.0358, -0.0325]],\n",
       "        device='cuda:0', requires_grad=True)}"
      ]
     },
     "execution_count": 25,
     "metadata": {},
     "output_type": "execute_result"
    }
   ],
   "source": [
    "data"
   ]
  },
  {
   "cell_type": "code",
   "execution_count": 10,
   "metadata": {},
   "outputs": [],
   "source": [
    "new_data = {'__identity_2_index': {}, \"__index_2_identity\": {}, \"__profile_embeddings\": None}"
   ]
  },
  {
   "cell_type": "code",
   "execution_count": 4,
   "metadata": {},
   "outputs": [],
   "source": [
    "data[\"__profile_embeddings\"] = data[\"__profile_embeddings\"][-1:,:]"
   ]
  },
  {
   "cell_type": "code",
   "execution_count": 10,
   "metadata": {},
   "outputs": [],
   "source": [
    "data[\"__identity_2_index\"] = {'3ec292c1c9d54510926407d31c8e0e46': 0}"
   ]
  },
  {
   "cell_type": "code",
   "execution_count": 11,
   "metadata": {},
   "outputs": [],
   "source": [
    "data[\"__index_2_identity\"] = {0: '3ec292c1c9d54510926407d31c8e0e46'}"
   ]
  },
  {
   "cell_type": "code",
   "execution_count": 14,
   "metadata": {},
   "outputs": [],
   "source": [
    "pickle.dump( data, open( \"./FaceRecognition/save.p\", \"wb\" ) )"
   ]
  },
  {
   "cell_type": "code",
   "execution_count": 12,
   "metadata": {},
   "outputs": [
    {
     "ename": "AttributeError",
     "evalue": "'NoneType' object has no attribute 'shape'",
     "output_type": "error",
     "traceback": [
      "\u001b[0;31m---------------------------------------------------------------------------\u001b[0m",
      "\u001b[0;31mAttributeError\u001b[0m                            Traceback (most recent call last)",
      "\u001b[0;32m<ipython-input-12-bd05314ac69f>\u001b[0m in \u001b[0;36m<module>\u001b[0;34m\u001b[0m\n\u001b[0;32m----> 1\u001b[0;31m \u001b[0ma\u001b[0m \u001b[0;34m=\u001b[0m \u001b[0mget_known_face_encoding\u001b[0m\u001b[0;34m(\u001b[0m\u001b[0;34m)\u001b[0m\u001b[0;34m\u001b[0m\u001b[0;34m\u001b[0m\u001b[0m\n\u001b[0m",
      "\u001b[0;32m~/Projects/face/FaceRecognition/attendance-backend/app/FaceRecognition/FindFaceInImage.py\u001b[0m in \u001b[0;36mget_known_face_encoding\u001b[0;34m()\u001b[0m\n\u001b[1;32m     25\u001b[0m     \u001b[0mknown_face_encodings\u001b[0m \u001b[0;34m=\u001b[0m \u001b[0;34m[\u001b[0m\u001b[0;34m]\u001b[0m\u001b[0;34m\u001b[0m\u001b[0;34m\u001b[0m\u001b[0m\n\u001b[1;32m     26\u001b[0m \u001b[0;34m\u001b[0m\u001b[0m\n\u001b[0;32m---> 27\u001b[0;31m     \u001b[0;32mfor\u001b[0m \u001b[0mi\u001b[0m \u001b[0;32min\u001b[0m \u001b[0mrange\u001b[0m\u001b[0;34m(\u001b[0m\u001b[0mprofile_embeddings\u001b[0m\u001b[0;34m.\u001b[0m\u001b[0mshape\u001b[0m\u001b[0;34m[\u001b[0m\u001b[0;36m0\u001b[0m\u001b[0;34m]\u001b[0m\u001b[0;34m)\u001b[0m\u001b[0;34m:\u001b[0m\u001b[0;34m\u001b[0m\u001b[0;34m\u001b[0m\u001b[0m\n\u001b[0m\u001b[1;32m     28\u001b[0m         \u001b[0mknown_face_names\u001b[0m\u001b[0;34m.\u001b[0m\u001b[0mappend\u001b[0m\u001b[0;34m(\u001b[0m\u001b[0mindex_2_identity\u001b[0m\u001b[0;34m[\u001b[0m\u001b[0mi\u001b[0m\u001b[0;34m]\u001b[0m\u001b[0;34m)\u001b[0m\u001b[0;34m\u001b[0m\u001b[0;34m\u001b[0m\u001b[0m\n\u001b[1;32m     29\u001b[0m         \u001b[0mknown_face_encodings\u001b[0m\u001b[0;34m.\u001b[0m\u001b[0mappend\u001b[0m\u001b[0;34m(\u001b[0m\u001b[0mprofile_embeddings\u001b[0m\u001b[0;34m[\u001b[0m\u001b[0mi\u001b[0m\u001b[0;34m,\u001b[0m\u001b[0;34m:\u001b[0m\u001b[0;34m]\u001b[0m\u001b[0;34m)\u001b[0m\u001b[0;34m\u001b[0m\u001b[0;34m\u001b[0m\u001b[0m\n",
      "\u001b[0;31mAttributeError\u001b[0m: 'NoneType' object has no attribute 'shape'"
     ]
    }
   ],
   "source": [
    "a = get_known_face_encoding()"
   ]
  },
  {
   "cell_type": "code",
   "execution_count": 6,
   "metadata": {},
   "outputs": [
    {
     "ename": "NameError",
     "evalue": "name 'a' is not defined",
     "output_type": "error",
     "traceback": [
      "\u001b[0;31m---------------------------------------------------------------------------\u001b[0m",
      "\u001b[0;31mNameError\u001b[0m                                 Traceback (most recent call last)",
      "\u001b[0;32m<ipython-input-6-3f786850e387>\u001b[0m in \u001b[0;36m<module>\u001b[0;34m\u001b[0m\n\u001b[0;32m----> 1\u001b[0;31m \u001b[0ma\u001b[0m\u001b[0;34m\u001b[0m\u001b[0;34m\u001b[0m\u001b[0m\n\u001b[0m",
      "\u001b[0;31mNameError\u001b[0m: name 'a' is not defined"
     ]
    }
   ],
   "source": [
    "a"
   ]
  },
  {
   "cell_type": "code",
   "execution_count": 12,
   "metadata": {},
   "outputs": [
    {
     "data": {
      "text/plain": [
       "'Title is saved'"
      ]
     },
     "execution_count": 12,
     "metadata": {},
     "output_type": "execute_result"
    }
   ],
   "source": [
    "import cv2\n",
    "import matplotlib.pyplot as plt\n",
    "\n",
    "im = cv2.imread(\"/home/bone/Projects/face/secondTermExperiment/videos/classvid-faces/classvid2/1L8ZY.jpg\")\n",
    "# plt.imshow(im)\n",
    "add_new_student(im, \"Title\")\n",
    "# process_this_frame()"
   ]
  },
  {
   "cell_type": "code",
   "execution_count": 7,
   "metadata": {},
   "outputs": [],
   "source": [
    "path = loadDir =  os.path.join(\"sample.jpg\")"
   ]
  },
  {
   "cell_type": "code",
   "execution_count": 5,
   "metadata": {},
   "outputs": [
    {
     "name": "stdout",
     "output_type": "stream",
     "text": [
      "FOUND IDENTITIES:  [{'box': [2147, 657, 2321, 831], 'name': 'UNK'}, {'box': [349, 694, 513, 858], 'name': 'UNK'}, {'box': [1547, 650, 1705, 808], 'name': 'UNK'}, {'box': [994, 697, 1161, 864], 'name': 'BKLYC'}]\n"
     ]
    }
   ],
   "source": [
    "im2 = cv2.imread('flaskapi/sample.jpg')\n",
    "# plt.imshow(im2)\n",
    "# plt.show()\n",
    "x = process_this_frame(im2)"
   ]
  },
  {
   "cell_type": "code",
   "execution_count": 9,
   "metadata": {},
   "outputs": [
    {
     "data": {
      "text/plain": [
       "numpy.int64"
      ]
     },
     "execution_count": 9,
     "metadata": {},
     "output_type": "execute_result"
    }
   ],
   "source": [
    "type(x[0]['top'])"
   ]
  },
  {
   "cell_type": "code",
   "execution_count": 6,
   "metadata": {},
   "outputs": [
    {
     "data": {
      "text/plain": [
       "int"
      ]
     },
     "execution_count": 6,
     "metadata": {},
     "output_type": "execute_result"
    }
   ],
   "source": [
    "type(x[0]['top'])"
   ]
  },
  {
   "cell_type": "code",
   "execution_count": null,
   "metadata": {},
   "outputs": [],
   "source": []
  }
 ],
 "metadata": {
  "kernelspec": {
   "display_name": "Python 3",
   "language": "python",
   "name": "python3"
  },
  "language_info": {
   "codemirror_mode": {
    "name": "ipython",
    "version": 3
   },
   "file_extension": ".py",
   "mimetype": "text/x-python",
   "name": "python",
   "nbconvert_exporter": "python",
   "pygments_lexer": "ipython3",
   "version": "3.6.7"
  }
 },
 "nbformat": 4,
 "nbformat_minor": 2
}

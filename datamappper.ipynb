{
 "cells": [
  {
   "cell_type": "code",
   "execution_count": 1,
   "metadata": {},
   "outputs": [],
   "source": [
    "import mysql.connector\n",
    "from utils import eprint"
   ]
  },
  {
   "cell_type": "code",
   "execution_count": 2,
   "metadata": {},
   "outputs": [],
   "source": [
    "db = mysql.connector.connect(\n",
    "  host=\"snr-attendance.cs1xewchsmfa.ap-northeast-1.rds.amazonaws.com\",\n",
    "  user=\"root\",\n",
    "  passwd=\"gearnggearng\",\n",
    "  database=\"snr_attendance\"\n",
    ")\n"
   ]
  },
  {
   "cell_type": "code",
   "execution_count": 3,
   "metadata": {},
   "outputs": [
    {
     "name": "stdout",
     "output_type": "stream",
     "text": [
      "('attendance',)\n",
      "('committee',)\n",
      "('committee_personnel',)\n",
      "('login',)\n",
      "('meeting',)\n",
      "('personnel',)\n"
     ]
    }
   ],
   "source": [
    "mycursor = db.cursor()\n",
    "\n",
    "mycursor.execute(\"SHOW TABLES\")\n",
    "\n",
    "for x in mycursor:\n",
    "  print(x)"
   ]
  },
  {
   "cell_type": "code",
   "execution_count": 8,
   "metadata": {},
   "outputs": [],
   "source": [
    "class Login:\n",
    "    \n",
    "    def __init__(self):\n",
    "        pass\n",
    "    \n",
    "    def add_user(self, uid, password):\n",
    "        sql = \"INSERT INTO login (uid, password) VALUES (%s, %s)\"\n",
    "        val = (uid, password)\n",
    "        try:\n",
    "            mycursor.execute(sql, val)\n",
    "            db.commit()\n",
    "            return \"added user {} to database\".format(uid)\n",
    "        except(RuntimeError, TypeError, NameError):\n",
    "            printe(RuntimeError)\n",
    "\n",
    "class Personnel:\n",
    "    \n",
    "    def __init__(self):\n",
    "        pass\n",
    "    \n",
    "    def add_personnel(self, p_id, p_title, p_firstname, \n",
    "                      p_lastname, p_phone=None, p_email=None, p_note=None):\n",
    "        sql = \"INSERT INTO personnel (p_id, p_title, p_firstname,\\\n",
    "        p_lastname, p_phone, p_email, p_note) VALUES (%s, %s, %s, %s, %s, %s, %s)\"\n",
    "        val = (p_id, p_title, p_firstname, p_lastname, p_phone, p_email, p_note)\n",
    "        try:\n",
    "            mycursor.execute(sql, val)\n",
    "            db.commit()\n",
    "            return \"added user {} to database\".format(p_id)\n",
    "        except(RuntimeError, TypeError, NameError):\n",
    "            printe(RuntimeError)\n",
    "\n",
    "class Committee:\n",
    "    \n",
    "    def __init__(self):\n",
    "        pass\n",
    "    \n",
    "    def add_committee(self, c_id, c_title, c_effective_date, c_end_date):\n",
    "        sql = \"INSERT INTO committee (c_id, c_title, c_effective_date,\\\n",
    "        c_end_date) VALUES (%s, %s, %s, %s)\"\n",
    "        print(sql)\n",
    "        val = (c_id, c_title, c_effective_date, c_end_date)\n",
    "        try:\n",
    "            mycursor.execute(sql, val)\n",
    "            db.commit()\n",
    "            return \"added committee {} to database\".format(c_id)\n",
    "        except(RuntimeError, TypeError, NameError):\n",
    "            printe(RuntimeError)\n",
    "        \n",
    "class Committee_personnel:\n",
    "    \n",
    "    def __init__(self):\n",
    "        pass\n",
    "    \n",
    "    def add_committee_personnel(self, c_id, p_id):\n",
    "        sql = \"INSERT INTO committee_personnel VALUES (%(c_id)s, %(p_id)s)\"\n",
    "        val = { 'c_id': c_id, 'p_id': p_id }\n",
    "        try:\n",
    "            mycursor.execute(sql, val)\n",
    "            db.commit()\n",
    "            return \"added pair {}, {} to database\".format(c_id, p_id)\n",
    "        except(RuntimeError, TypeError, NameError):\n",
    "            printe(RuntimeError)\n",
    "            \n",
    "class Meeting:\n",
    "    \n",
    "    def __init__(self):\n",
    "        pass\n",
    "    \n",
    "    def add_meeting(self, m_id, m_datetime, m_num_of_attendants, m_starttime,\n",
    "                    m_endtime, m_committee, m_secretary):\n",
    "        sql = \"INSERT INTO meeting VALUES (%s, %s, %s, %s, %s, %s, %s)\"\n",
    "        val = (m_id, m_datetime, m_num_of_attendants, m_starttime,\n",
    "                    m_endtime, m_committee, m_secretary)\n",
    "        try:\n",
    "            mycursor.execute(sql, val)\n",
    "            db.commit()\n",
    "            return \"added meeting {} to database\".format(m_id)\n",
    "        except(RuntimeError, TypeError, NameError):\n",
    "            printe(RuntimeError)"
   ]
  },
  {
   "cell_type": "code",
   "execution_count": 10,
   "metadata": {},
   "outputs": [
    {
     "data": {
      "text/plain": [
       "'added user boi to database'"
      ]
     },
     "execution_count": 10,
     "metadata": {},
     "output_type": "execute_result"
    }
   ],
   "source": [
    "l = Login()\n",
    "l.add_user(\"boi\",\"123\")"
   ]
  },
  {
   "cell_type": "code",
   "execution_count": 68,
   "metadata": {},
   "outputs": [
    {
     "data": {
      "text/plain": [
       "'added pair 420, 143 to database'"
      ]
     },
     "execution_count": 68,
     "metadata": {},
     "output_type": "execute_result"
    }
   ],
   "source": [
    "cp = Committee_personnel()\n",
    "cp.add_committee_personnel(\"420\", \"143\")"
   ]
  },
  {
   "cell_type": "code",
   "execution_count": 52,
   "metadata": {},
   "outputs": [
    {
     "name": "stdout",
     "output_type": "stream",
     "text": [
      "INSERT INTO committee (c_id, c_title, c_effective_date,        c_end_date) VALUES (%s, %s, %s, %s)\n"
     ]
    },
    {
     "data": {
      "text/plain": [
       "'added committee 421 to database'"
      ]
     },
     "execution_count": 52,
     "metadata": {},
     "output_type": "execute_result"
    }
   ],
   "source": [
    "import time\n",
    "\n",
    "c = Committee()\n",
    "c.add_committee(\"421\", \"some role2\", time.time(), time.time())"
   ]
  },
  {
   "cell_type": "code",
   "execution_count": 27,
   "metadata": {},
   "outputs": [
    {
     "data": {
      "text/plain": [
       "'added user 143 to database'"
      ]
     },
     "execution_count": 27,
     "metadata": {},
     "output_type": "execute_result"
    }
   ],
   "source": [
    "p = Personnel()\n",
    "p.add_personnel(\"143\", \"goddo\", \"johnny\", \"joe\", \"0849493438\", \"jone@mail.com\")"
   ]
  },
  {
   "cell_type": "code",
   "execution_count": null,
   "metadata": {},
   "outputs": [],
   "source": [
    "class Login:\n",
    "    def __init__(self):\n",
    "        pass\n",
    "    def get_user_password(self:\n",
    "        cursor.execute"
   ]
  }
 ],
 "metadata": {
  "kernelspec": {
   "display_name": "Python 3",
   "language": "python",
   "name": "python3"
  },
  "language_info": {
   "codemirror_mode": {
    "name": "ipython",
    "version": 3
   },
   "file_extension": ".py",
   "mimetype": "text/x-python",
   "name": "python",
   "nbconvert_exporter": "python",
   "pygments_lexer": "ipython3",
   "version": "3.6.7"
  }
 },
 "nbformat": 4,
 "nbformat_minor": 2
}
